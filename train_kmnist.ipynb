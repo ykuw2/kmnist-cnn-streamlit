{
 "cells": [
  {
   "cell_type": "code",
   "execution_count": null,
   "id": "42300607",
   "metadata": {},
   "outputs": [],
   "source": [
    "import matplotlib.pyplot as plt\n",
    "import numpy as np\n",
    "from typing import Tuple"
   ]
  },
  {
   "cell_type": "code",
   "execution_count": 32,
   "id": "b4285da0",
   "metadata": {},
   "outputs": [],
   "source": [
    "# Train paths\n",
    "kmnist_train_images = \"./kmnist-train-imgs.npz\"\n",
    "kmnist_train_labels = \"./kmnist-train-labels.npz\"\n",
    "\n",
    "# Test paths\n",
    "kmnist_test_images = \"./kmnist-test-imgs.npz\"\n",
    "kmnist_test_labels = \"./kmnist-test-labels.npz\""
   ]
  },
  {
   "cell_type": "code",
   "execution_count": 33,
   "id": "21982222",
   "metadata": {},
   "outputs": [],
   "source": [
    "# KMNIST DataLoader Class\n",
    "\n",
    "class DataLoader:\n",
    "    \"\"\"\n",
    "    A DataLoader class that loads KMNIST data from .npz files for images and labels.\n",
    "    Each .npz contains \"arr_0\".\n",
    "    \"\"\"\n",
    "    def __init__(self, train_images_path: str, train_labels_path: str, test_images_path: str, test_labels_path: str):\n",
    "        self.train_images_path = train_images_path\n",
    "        self.train_labels_path = train_labels_path\n",
    "        self.test_images_path = test_images_path\n",
    "        self.test_labels_path = test_labels_path\n",
    "\n",
    "    def load_data(self) -> Tuple[np.array]:\n",
    "        \"\"\"\n",
    "        Loads arrays from the given .npz files.\n",
    "        \n",
    "        Returns:\n",
    "            (Tuple[np.array]): Returns a tuple of numpy arrays.\n",
    "        \"\"\"\n",
    "        X_train = np.load(self.train_images_path)[\"arr_0\"]\n",
    "        y_train = np.load(self.train_labels_path)[\"arr_0\"]\n",
    "\n",
    "        X_test = np.load(self.test_images_path)[\"arr_0\"]\n",
    "        y_test = np.load(self.test_labels_path)[\"arr_0\"]\n",
    "\n",
    "        return (X_train, y_train), (X_test, y_test)\n"
   ]
  },
  {
   "cell_type": "code",
   "execution_count": 37,
   "id": "0741c21f",
   "metadata": {},
   "outputs": [],
   "source": [
    "# Loading the data \n",
    "loader = DataLoader(kmnist_train_images, kmnist_train_labels, kmnist_test_images, kmnist_test_labels)\n",
    "\n",
    "(X_train, y_train), (X_test, y_test) = loader.load_data()"
   ]
  }
 ],
 "metadata": {
  "kernelspec": {
   "display_name": "projects",
   "language": "python",
   "name": "python3"
  },
  "language_info": {
   "codemirror_mode": {
    "name": "ipython",
    "version": 3
   },
   "file_extension": ".py",
   "mimetype": "text/x-python",
   "name": "python",
   "nbconvert_exporter": "python",
   "pygments_lexer": "ipython3",
   "version": "3.12.11"
  }
 },
 "nbformat": 4,
 "nbformat_minor": 5
}
